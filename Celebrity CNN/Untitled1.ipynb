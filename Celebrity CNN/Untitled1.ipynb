{
 "cells": [
  {
   "cell_type": "code",
   "execution_count": 1,
   "id": "8c86750e-656b-4bfb-9b4b-59392813c9b6",
   "metadata": {},
   "outputs": [],
   "source": [
    "import os"
   ]
  },
  {
   "cell_type": "code",
   "execution_count": 2,
   "id": "a2100a7f-832e-4f59-b807-c3ecddbad688",
   "metadata": {},
   "outputs": [],
   "source": [
    "PATH = 'D:/GitHub/105_classes_pins_dataset'"
   ]
  },
  {
   "cell_type": "code",
   "execution_count": 11,
   "id": "df8f68d3-3d38-4ef9-a9ac-a88d927276ad",
   "metadata": {
    "tags": []
   },
   "outputs": [
    {
     "ename": "FileNotFoundError",
     "evalue": "[WinError 3] Sistem belirtilen yolu bulamıyor: 'pins_Zoe Saldana'",
     "output_type": "error",
     "traceback": [
      "\u001b[1;31m---------------------------------------------------------------------------\u001b[0m",
      "\u001b[1;31mFileNotFoundError\u001b[0m                         Traceback (most recent call last)",
      "Input \u001b[1;32mIn [11]\u001b[0m, in \u001b[0;36m<module>\u001b[1;34m\u001b[0m\n\u001b[1;32m----> 1\u001b[0m \u001b[43mos\u001b[49m\u001b[38;5;241;43m.\u001b[39;49m\u001b[43mlistdir\u001b[49m\u001b[43m(\u001b[49m\u001b[43mi\u001b[49m\u001b[43m)\u001b[49m\n",
      "\u001b[1;31mFileNotFoundError\u001b[0m: [WinError 3] Sistem belirtilen yolu bulamıyor: 'pins_Zoe Saldana'"
     ]
    }
   ],
   "source": [
    "os.listdir(i)"
   ]
  },
  {
   "cell_type": "code",
   "execution_count": 16,
   "id": "a69791ea-9ab3-4bf1-9f54-010b5846ba40",
   "metadata": {},
   "outputs": [
    {
     "name": "stdout",
     "output_type": "stream",
     "text": [
      "36\n",
      "36\n",
      "41\n",
      "36\n",
      "41\n",
      "36\n",
      "36\n",
      "36\n",
      "37\n",
      "38\n",
      "37\n",
      "36\n",
      "38\n",
      "36\n",
      "35\n",
      "36\n",
      "39\n",
      "38\n",
      "36\n",
      "37\n",
      "36\n",
      "38\n",
      "36\n",
      "38\n",
      "40\n",
      "41\n",
      "38\n",
      "38\n",
      "36\n",
      "38\n",
      "38\n",
      "35\n",
      "34\n",
      "37\n",
      "35\n",
      "36\n",
      "34\n",
      "36\n",
      "38\n",
      "36\n",
      "36\n",
      "35\n",
      "36\n",
      "37\n",
      "36\n",
      "35\n",
      "40\n",
      "37\n",
      "38\n",
      "36\n",
      "36\n",
      "36\n",
      "39\n",
      "41\n",
      "36\n",
      "38\n",
      "38\n",
      "40\n",
      "37\n",
      "38\n",
      "36\n",
      "36\n",
      "39\n",
      "38\n",
      "37\n",
      "37\n",
      "41\n",
      "36\n",
      "38\n",
      "34\n",
      "38\n",
      "36\n",
      "41\n",
      "38\n",
      "38\n",
      "36\n",
      "38\n",
      "38\n",
      "41\n",
      "36\n",
      "36\n",
      "35\n",
      "39\n",
      "38\n",
      "33\n",
      "38\n",
      "39\n",
      "41\n",
      "41\n",
      "36\n",
      "43\n",
      "37\n",
      "37\n",
      "36\n",
      "35\n",
      "34\n",
      "34\n",
      "38\n",
      "36\n",
      "41\n",
      "38\n",
      "39\n",
      "34\n",
      "33\n",
      "36\n"
     ]
    }
   ],
   "source": [
    "for i in os.listdir(PATH):\n",
    "    class_path = os.path.join(PATH,i)\n",
    "    size = len(class_path)\n",
    "    train_size = round(len(class_path)*0.7)\n",
    "    test_size = round\n",
    "    "
   ]
  },
  {
   "cell_type": "code",
   "execution_count": null,
   "id": "9690efbd-27ee-4812-9d0e-fee08d48ef2a",
   "metadata": {},
   "outputs": [],
   "source": []
  }
 ],
 "metadata": {
  "kernelspec": {
   "display_name": "Python 3 (ipykernel)",
   "language": "python",
   "name": "python3"
  },
  "language_info": {
   "codemirror_mode": {
    "name": "ipython",
    "version": 3
   },
   "file_extension": ".py",
   "mimetype": "text/x-python",
   "name": "python",
   "nbconvert_exporter": "python",
   "pygments_lexer": "ipython3",
   "version": "3.9.10"
  }
 },
 "nbformat": 4,
 "nbformat_minor": 5
}
