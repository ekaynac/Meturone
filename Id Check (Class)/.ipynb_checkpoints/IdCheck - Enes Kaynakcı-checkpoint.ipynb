{
 "cells": [
  {
   "cell_type": "code",
   "execution_count": 82,
   "metadata": {
    "Collapsed": "false"
   },
   "outputs": [],
   "source": [
    "class Id:\n",
    "    def __init__(self,id):\n",
    "        self.digits = [id[0],id[1],id[2],id[3]]\n",
    "        self.key = id[5]\n",
    "    \n",
    "    def is_digits_int(self):\n",
    "        if (self.digits[0] == '?') or (self.digits[1] == '?') or (self.digits[2] == '?') or (self.digits[3] == '?'):\n",
    "            return False\n",
    "        else:\n",
    "            self.digits[0] = int(self.digits[0])\n",
    "            self.digits[1] = int(self.digits[1])\n",
    "            self.digits[2] = int(self.digits[2])\n",
    "            self.digits[3] = int(self.digits[3])\n",
    "            return True\n",
    "        \n",
    "    def is_key_int(self):\n",
    "        if (self.key == '?'):\n",
    "            return False\n",
    "        else:\n",
    "            self.key = int(self.key)\n",
    "            return True\n",
    "        \n",
    "    def find_key(self):\n",
    "        if self.is_digits_int():\n",
    "            total = 2*self.digits[0] + 3*self.digits[1] + 5*self.digits[2] + 7*self.digits[3]\n",
    "            found_key = total%11\n",
    "            return found_key\n",
    "        else:\n",
    "            print(\"A missing argument exist try .fill_digits\")\n",
    "        \n",
    "    def check_valid(self):\n",
    "        if self.is_digits_int() == True:\n",
    "            found_key = self.find_key() \n",
    "            if found_key == int(self.key):\n",
    "                print(\"VALID\")\n",
    "            else:\n",
    "                print(\"INVALID\")\n",
    "        else:\n",
    "            print(\"A missing argument exist try .fill_digits\")\n",
    "            \n",
    "    def fill_key(self):\n",
    "        self.key = self.find_key()\n",
    "    \n",
    "    def fill_digit(self):\n",
    "        if self.is_key_int() == True:\n",
    "            if self.digits[0] == '?':\n",
    "                raw = -3*int(self.digits[1]) -5*int(self.digits[2]) -7*int(self.digits[3])\n",
    "                raww = raw+int(self.key)\n",
    "                while (raww<0) or not(raww%2==0):\n",
    "                    raww = raww+11\n",
    "                self.digits[0] = int(raww/2)\n",
    "\n",
    "            elif self.digits[1] == '?':\n",
    "                raw = -2*int(self.digits[0]) -5*int(self.digits[2]) -7*int(self.digits[3])\n",
    "                raww = raw+int(self.key)\n",
    "                while (raww<0) or not(raww%3==0):\n",
    "                    raww = raww+11\n",
    "                self.digits[1] = int(raww/3)\n",
    "\n",
    "            elif self.digits[2] == '?':\n",
    "                raw = -2*int(self.digits[0]) -3*int(self.digits[1]) -7*int(self.digits[3])\n",
    "                raww = raw+int(self.key)\n",
    "                while (raww<0) or not(raww%5==0):\n",
    "                    raww = raww+11\n",
    "                self.digits[2] = int(raww/5)\n",
    "\n",
    "            elif self.digits[3] == '?':\n",
    "                raw = -2*int(self.digits[0]) -3*int(self.digits[1]) -5*int(self.digits[2])\n",
    "                raww = raw+int(self.key)\n",
    "                while (raww<0) or not(raww%7==0):\n",
    "                    raww = raww+11\n",
    "                self.digits[3] = int(raww/7)\n",
    "        else:\n",
    "            print(\"A missing argument exist try .fill_key\")\n",
    "        \n",
    "    def check_id(self):\n",
    "        if self.is_digits_int() and self.is_key_int():\n",
    "            self.check_valid()\n",
    "        \n",
    "        elif not(self.is_key_int()):\n",
    "            self.fill_key()\n",
    "            print(\"{} {}\".format(self.digits,self.key))\n",
    "        \n",
    "        elif not(self.is_digits_int()):\n",
    "            self.fill_digit()\n",
    "            print(\"{} {}\".format(self.digits,self.key))\n",
    "            \n",
    "            \n"
   ]
  },
  {
   "cell_type": "code",
   "execution_count": 95,
   "metadata": {
    "Collapsed": "false"
   },
   "outputs": [],
   "source": [
    "id = '?792-4'\n",
    "id_object = Id(id)"
   ]
  },
  {
   "cell_type": "code",
   "execution_count": 96,
   "metadata": {
    "Collapsed": "false"
   },
   "outputs": [
    {
     "name": "stdout",
     "output_type": "stream",
     "text": [
      "[6, '7', '9', '2'] 4\n"
     ]
    }
   ],
   "source": [
    "id_object.check_id()"
   ]
  },
  {
   "cell_type": "code",
   "execution_count": null,
   "metadata": {
    "Collapsed": "false"
   },
   "outputs": [],
   "source": []
  }
 ],
 "metadata": {
  "kernelspec": {
   "display_name": "Python 3",
   "language": "python",
   "name": "python3"
  },
  "language_info": {
   "codemirror_mode": {
    "name": "ipython",
    "version": 3
   },
   "file_extension": ".py",
   "mimetype": "text/x-python",
   "name": "python",
   "nbconvert_exporter": "python",
   "pygments_lexer": "ipython3",
   "version": "3.7.7"
  }
 },
 "nbformat": 4,
 "nbformat_minor": 4
}
