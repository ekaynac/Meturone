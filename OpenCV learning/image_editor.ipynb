{
 "cells": [
  {
   "cell_type": "code",
   "execution_count": 1,
   "id": "f4a43260-76af-456c-b2d4-fa0bc3947481",
   "metadata": {},
   "outputs": [],
   "source": [
    "import cv2 as cv\n",
    "import numpy as np\n",
    "import imutils"
   ]
  },
  {
   "cell_type": "code",
   "execution_count": 5,
   "id": "b95a8347-6ccc-4ca4-8a33-7a60f35191a6",
   "metadata": {},
   "outputs": [],
   "source": [
    "class image_editor():\n",
    "    def __init__(self,img):\n",
    "        self.img = img\n",
    "        self.drawing = False # true if mouse is pressed\n",
    "        self.ix,self.iy = -1,-1\n",
    "        self.preview = self.img.copy()\n",
    "        self.sub_image = self.img.copy()\n",
    "        self.preview_exist=False\n",
    "        self.selected_count=0\n",
    "        self.windowname=\"\"\n",
    "        self.drawing_circle=False\n",
    "        self.drawing_rectangle=False\n",
    "        self.radius = 0\n",
    "\n",
    "\n",
    "    def operations(self,event,x,y,flags,param):\n",
    "        #on/off drawing mode if ctrl(8)+leftbutton(1) drawing mode is on\n",
    "        if flags == 10:\n",
    "            self.drawing = True\n",
    "            self.drawing_rectangle = True\n",
    "            self.drawing_circle = False\n",
    "        elif flags == 9:\n",
    "            self.drawing = True\n",
    "            self.drawing_circle = True\n",
    "            self.drawing_rectangle = False\n",
    "        else:\n",
    "            self.drawing = False\n",
    "        #when left button down set initial coordinates there and resets preview image\n",
    "        if event == cv.EVENT_RBUTTONDOWN or event == cv.EVENT_LBUTTONDOWN:\n",
    "                self.ix,self.iy = x,y\n",
    "        #in drawing mode reset preview image, draw rectangle on it, set preview_exists to true till we finish drawing\n",
    "        if self.drawing==True:\n",
    "            if self.drawing_rectangle:\n",
    "                self.preview = self.img.copy()\n",
    "                cv.rectangle(self.preview,(self.ix,self.iy),(x,y),(0,255,0),1)\n",
    "                self.preview_exist = True\n",
    "            elif self.drawing_circle:\n",
    "                self.preview = self.img.copy()\n",
    "                self.radius = int(((x-self.ix)**2 + (self.iy-y)**2)**(1/2))\n",
    "                cv.circle(self.preview,(self.ix,self.iy),self.radius,(0,255,0),1)\n",
    "                self.preview_exist = True\n",
    "        #if finished drawing mode and a preview exists draw that rectangle on original image\n",
    "        if (event == cv.EVENT_RBUTTONUP or event == cv.EVENT_LBUTTONUP )and self.preview_exist==True and flags==8:\n",
    "            self.windowname = \"selected\"+str(self.selected_count)\n",
    "            #to make rectangles on any direction\n",
    "            if self.iy<y:\n",
    "                y1 = self.iy\n",
    "                y2 = y\n",
    "            else:\n",
    "                y1 = y\n",
    "                y2 = self.iy\n",
    "            if self.ix<x:\n",
    "                x1 = self.ix\n",
    "                x2 = x\n",
    "            else:\n",
    "                x1 = x\n",
    "                x2 = self.ix\n",
    "            if event == cv.EVENT_RBUTTONUP:\n",
    "                cv.rectangle(self.img,(self.ix,self.iy),(x,y),(0,0,255),1)\n",
    "                sub_image = self.img[y1:y2, x1:x2]\n",
    "                cv.imshow(self.windowname,sub_image)\n",
    "                save_name = str(self.windowname)+\".jpg\"\n",
    "                cv.imwrite(save_name,self.sub_image)\n",
    "                self.selected_count +=1\n",
    "                self.drawing_rectangle=False\n",
    "                self.preview_exist=False\n",
    "            elif event == cv.EVENT_LBUTTONUP:\n",
    "                cv.circle(self.img,(self.ix,self.iy),self.radius,(0,0,255),1)\n",
    "                self.preview_exist=False\n",
    "                self.drawing_circle=False\n",
    "        # on double left click put bgr text\n",
    "        if(event == cv.EVENT_RBUTTONDOWN):\n",
    "            b= self.img[x,y,0]\n",
    "            g= self.img[x,y,1]\n",
    "            r= self.img[x,y,2]\n",
    "            font= cv.FONT_HERSHEY_SIMPLEX\n",
    "            bgr_text = str(b) + \" ,\" + str(g) +  \" ,\" + str(r)\n",
    "            cv.putText(self.img,bgr_text,(x,y),font,0.3,(0,0,255),1)\n",
    "        if(event == cv.EVENT_LBUTTONDOWN):\n",
    "            cv.imwrite(\"saved.jpg\",self.img)\n",
    "        if (flags==33):\n",
    "            self.img = imutils.rotate(self.img, 90)\n",
    "    def session(self):\n",
    "        cv.namedWindow('image')  \n",
    "        cv.setMouseCallback('image',self.operations)\n",
    "        while(1):\n",
    "            if self.drawing == True:\n",
    "                cv.imshow('image',self.preview)\n",
    "            else:\n",
    "                cv.imshow('image',self.img)\n",
    "            if cv.waitKey(20) & 0xFF == 27:  \n",
    "                break  \n",
    "        cv.destroyAllWindows()  \n"
   ]
  },
  {
   "cell_type": "code",
   "execution_count": 7,
   "id": "3d3651ed-ece9-40d1-879c-f001e3c008cd",
   "metadata": {},
   "outputs": [],
   "source": [
    "img = np.zeros((512,512,3), np.uint8)"
   ]
  },
  {
   "cell_type": "code",
   "execution_count": 8,
   "id": "fc9752a1-2a9d-4f33-8cd0-d62030a56fcd",
   "metadata": {},
   "outputs": [],
   "source": [
    "a = image_editor(img)"
   ]
  },
  {
   "cell_type": "code",
   "execution_count": 9,
   "id": "fbce7bb7-bcf3-412f-a54d-af345ba0f9af",
   "metadata": {
    "tags": []
   },
   "outputs": [],
   "source": [
    "a.session()"
   ]
  },
  {
   "cell_type": "code",
   "execution_count": null,
   "id": "f9b26f6c-36d5-4d14-a1da-1875fe2a641e",
   "metadata": {},
   "outputs": [],
   "source": []
  }
 ],
 "metadata": {
  "kernelspec": {
   "display_name": "Python 3 (ipykernel)",
   "language": "python",
   "name": "python3"
  },
  "language_info": {
   "codemirror_mode": {
    "name": "ipython",
    "version": 3
   },
   "file_extension": ".py",
   "mimetype": "text/x-python",
   "name": "python",
   "nbconvert_exporter": "python",
   "pygments_lexer": "ipython3",
   "version": "3.9.10"
  }
 },
 "nbformat": 4,
 "nbformat_minor": 5
}
