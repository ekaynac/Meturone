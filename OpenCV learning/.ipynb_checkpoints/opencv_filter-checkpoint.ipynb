{
 "cells": [
  {
   "cell_type": "code",
   "execution_count": 1,
   "id": "0413563f-e381-4f3d-a033-597dcab4a385",
   "metadata": {},
   "outputs": [],
   "source": [
    "import cv2 as cv\n",
    "import numpy as np"
   ]
  },
  {
   "cell_type": "code",
   "execution_count": 2,
   "id": "0002c45d-a56e-47e8-a905-67a017866108",
   "metadata": {},
   "outputs": [],
   "source": [
    "def nothing(x):\n",
    "    pass"
   ]
  },
  {
   "cell_type": "code",
   "execution_count": 3,
   "id": "8606e177-4f24-4011-abb2-a12172c0ff32",
   "metadata": {},
   "outputs": [],
   "source": [
    "cap = cv.VideoCapture(0)"
   ]
  },
  {
   "cell_type": "code",
   "execution_count": 4,
   "id": "f1bac655-afde-4d1c-a8db-3ab0eeae2e85",
   "metadata": {},
   "outputs": [],
   "source": [
    "cv.namedWindow(\"Filter\")"
   ]
  },
  {
   "cell_type": "code",
   "execution_count": 5,
   "id": "70b6c9bf-814b-4b01-8520-9001ce6651bc",
   "metadata": {},
   "outputs": [
    {
     "name": "stdin",
     "output_type": "stream",
     "text": [
      " 2\n"
     ]
    }
   ],
   "source": [
    "flag = int(input())"
   ]
  },
  {
   "cell_type": "code",
   "execution_count": 6,
   "id": "e91d1859-0c5f-4be9-be17-6e3884846334",
   "metadata": {},
   "outputs": [
    {
     "ename": "error",
     "evalue": "OpenCV(4.5.5) D:\\a\\opencv-python\\opencv-python\\opencv\\modules\\highgui\\src\\window_w32.cpp:2581: error: (-27:Null pointer) NULL window: 'Filter' in function 'cvGetTrackbarPos'\n",
     "output_type": "error",
     "traceback": [
      "\u001b[1;31m---------------------------------------------------------------------------\u001b[0m",
      "\u001b[1;31merror\u001b[0m                                     Traceback (most recent call last)",
      "Input \u001b[1;32mIn [6]\u001b[0m, in \u001b[0;36m<module>\u001b[1;34m\u001b[0m\n\u001b[0;32m     79\u001b[0m ret, frame \u001b[38;5;241m=\u001b[39m cap\u001b[38;5;241m.\u001b[39mread()\n\u001b[0;32m     81\u001b[0m frame \u001b[38;5;241m=\u001b[39m cv\u001b[38;5;241m.\u001b[39mcvtColor(frame,cv\u001b[38;5;241m.\u001b[39mCOLOR_BGR2GRAY)\n\u001b[1;32m---> 83\u001b[0m l_b \u001b[38;5;241m=\u001b[39m \u001b[43mcv\u001b[49m\u001b[38;5;241;43m.\u001b[39;49m\u001b[43mgetTrackbarPos\u001b[49m\u001b[43m(\u001b[49m\u001b[38;5;124;43m\"\u001b[39;49m\u001b[38;5;124;43mL_B\u001b[39;49m\u001b[38;5;124;43m\"\u001b[39;49m\u001b[43m,\u001b[49m\u001b[38;5;124;43m\"\u001b[39;49m\u001b[38;5;124;43mFilter\u001b[39;49m\u001b[38;5;124;43m\"\u001b[39;49m\u001b[43m)\u001b[49m\n\u001b[0;32m     84\u001b[0m u_b \u001b[38;5;241m=\u001b[39m cv\u001b[38;5;241m.\u001b[39mgetTrackbarPos(\u001b[38;5;124m\"\u001b[39m\u001b[38;5;124mU_B\u001b[39m\u001b[38;5;124m\"\u001b[39m,\u001b[38;5;124m\"\u001b[39m\u001b[38;5;124mFilter\u001b[39m\u001b[38;5;124m\"\u001b[39m)\n\u001b[0;32m     86\u001b[0m l_bound \u001b[38;5;241m=\u001b[39m np\u001b[38;5;241m.\u001b[39marray([l_b])\n",
      "\u001b[1;31merror\u001b[0m: OpenCV(4.5.5) D:\\a\\opencv-python\\opencv-python\\opencv\\modules\\highgui\\src\\window_w32.cpp:2581: error: (-27:Null pointer) NULL window: 'Filter' in function 'cvGetTrackbarPos'\n"
     ]
    }
   ],
   "source": [
    "if flag == 0:\n",
    "    cv.createTrackbar(\"L_H\",\"Filter\",0,180,nothing)\n",
    "    cv.createTrackbar(\"U_H\",\"Filter\",255,180,nothing)\n",
    "\n",
    "    cv.createTrackbar(\"L_S\",\"Filter\",0,255,nothing)\n",
    "    cv.createTrackbar(\"U_S\",\"Filter\",255,255,nothing)\n",
    "\n",
    "    cv.createTrackbar(\"L_V\",\"Filter\",0,255,nothing)\n",
    "    cv.createTrackbar(\"U_V\",\"Filter\",255,255,nothing)\n",
    "\n",
    "    while(True):\n",
    "        ret, frame = cap.read()\n",
    "    \n",
    "        frame = cv.cvtColor(frame,cv.COLOR_BGR2HSV)\n",
    "    \n",
    "        l_h = cv.getTrackbarPos(\"L_H\",\"Filter\")\n",
    "        u_h = cv.getTrackbarPos(\"U_H\",\"Filter\")\n",
    "    \n",
    "        l_s = cv.getTrackbarPos(\"L_S\",\"Filter\")\n",
    "        u_s = cv.getTrackbarPos(\"U_S\",\"Filter\")\n",
    "    \n",
    "        l_v = cv.getTrackbarPos(\"L_V\",\"Filter\")\n",
    "        u_v = cv.getTrackbarPos(\"U_V\",\"Filter\")\n",
    "    \n",
    "        l_bound = np.array([l_h,l_s,l_v])\n",
    "        u_bound = np.array([u_h,u_s,u_v])\n",
    "    \n",
    "        mask = cv.inRange(frame,l_bound,u_bound)\n",
    "        cv.imshow(\"frame\",frame)\n",
    "        cv.imshow(\"mask\",mask)\n",
    "        res = cv.bitwise_and(frame,frame,mask=mask)\n",
    "        cv.imshow(\"res\",res)\n",
    "    \n",
    "        key = cv.waitKey(1)\n",
    "        if key==27:\n",
    "            break\n",
    "        \n",
    "\n",
    "elif flag == 1:\n",
    "    cv.createTrackbar(\"L_B\",\"Filter\",0,255,nothing)\n",
    "    cv.createTrackbar(\"U_B\",\"Filter\",255,255,nothing)\n",
    "\n",
    "    cv.createTrackbar(\"L_G\",\"Filter\",0,255,nothing)\n",
    "    cv.createTrackbar(\"U_G\",\"Filter\",255,255,nothing)\n",
    "\n",
    "    cv.createTrackbar(\"L_R\",\"Filter\",0,255,nothing)\n",
    "    cv.createTrackbar(\"U_R\",\"Filter\",255,255,nothing)\n",
    "\n",
    "    while(True):\n",
    "        ret, frame = cap.read()\n",
    "    \n",
    "        l_b = cv.getTrackbarPos(\"L_B\",\"Filter\")\n",
    "        u_b = cv.getTrackbarPos(\"U_B\",\"Filter\")\n",
    "    \n",
    "        l_g = cv.getTrackbarPos(\"L_G\",\"Filter\")\n",
    "        u_g = cv.getTrackbarPos(\"U_G\",\"Filter\")\n",
    "    \n",
    "        l_r = cv.getTrackbarPos(\"L_R\",\"Filter\")\n",
    "        u_r = cv.getTrackbarPos(\"U_R\",\"Filter\")\n",
    "    \n",
    "        l_bound = np.array([l_b,l_g,l_r])\n",
    "        u_bound = np.array([u_b,u_g,u_r])\n",
    "    \n",
    "        mask = cv.inRange(frame,l_bound,u_bound)\n",
    "        cv.imshow(\"frame\",frame)\n",
    "        cv.imshow(\"mask\",mask)\n",
    "        res = cv.bitwise_and(frame,frame,mask=mask)\n",
    "        cv.imshow(\"res\",res)\n",
    "    \n",
    "        key = cv.waitKey(1)\n",
    "        if key==27:\n",
    "            break\n",
    "            \n",
    "elif flag == 2:\n",
    "    cv.createTrackbar(\"L_B\",\"Filter\",0,255,nothing)\n",
    "    cv.createTrackbar(\"U_B\",\"Filter\",255,255,nothing)\n",
    "\n",
    "    while(True):\n",
    "        ret, frame = cap.read()\n",
    "        \n",
    "        frame = cv.cvtColor(frame,cv.COLOR_BGR2GRAY)\n",
    "    \n",
    "        l_b = cv.getTrackbarPos(\"L_B\",\"Filter\")\n",
    "        u_b = cv.getTrackbarPos(\"U_B\",\"Filter\")\n",
    "    \n",
    "        l_bound = np.array([l_b])\n",
    "        u_bound = np.array([u_b])\n",
    "    \n",
    "        mask = cv.inRange(frame,l_bound,u_bound)\n",
    "        cv.imshow(\"frame\",frame)\n",
    "        cv.imshow(\"mask\",mask)\n",
    "        res = cv.bitwise_and(frame,frame,mask=mask)\n",
    "        cv.imshow(\"res\",res)\n",
    "    \n",
    "        key = cv.waitKey(1)\n",
    "        if key==27:\n",
    "            break\n",
    "        \n",
    "cap.release()\n",
    "cv.destroyAllWindows()"
   ]
  },
  {
   "cell_type": "code",
   "execution_count": null,
   "id": "57963a77-6e7c-4b70-aa4d-cde561fa12e6",
   "metadata": {},
   "outputs": [],
   "source": []
  }
 ],
 "metadata": {
  "kernelspec": {
   "display_name": "Python 3 (ipykernel)",
   "language": "python",
   "name": "python3"
  },
  "language_info": {
   "codemirror_mode": {
    "name": "ipython",
    "version": 3
   },
   "file_extension": ".py",
   "mimetype": "text/x-python",
   "name": "python",
   "nbconvert_exporter": "python",
   "pygments_lexer": "ipython3",
   "version": "3.9.10"
  }
 },
 "nbformat": 4,
 "nbformat_minor": 5
}
