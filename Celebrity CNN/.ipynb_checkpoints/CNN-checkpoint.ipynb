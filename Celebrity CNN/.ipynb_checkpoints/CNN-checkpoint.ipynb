{
 "cells": [
  {
   "cell_type": "code",
   "execution_count": null,
   "id": "da21d690-93e0-4cc9-88cf-faa11b8e8ae3",
   "metadata": {},
   "outputs": [],
   "source": [
    "import numpy as np\n",
    "import tensorflow as tf\n",
    "import PIL as Image\n",
    "from tensorflow.keras.layers import Conv2D, Activation, MaxPooling2D, Flatten, Dropout, Dense\n",
    "import os\n",
    "from matplotlib import pyplot as plt"
   ]
  },
  {
   "cell_type": "code",
   "execution_count": null,
   "id": "4fa3da2f-e771-4278-a3e8-301c050443bb",
   "metadata": {},
   "outputs": [],
   "source": [
    "PATH = 'C:/Users/enes_/Documents/GitHub/Datasets/105_classes_pins_dataset'\n",
    "train_path = PATH + \"/train\"\n",
    "test_path = PATH + \"/test\"\n",
    "valid_path = PATH + \"/valid\""
   ]
  },
  {
   "cell_type": "code",
   "execution_count": null,
   "id": "965e3461-6e25-4899-96a4-413e0942dbfe",
   "metadata": {},
   "outputs": [],
   "source": [
    "size = (128, 128)"
   ]
  },
  {
   "cell_type": "code",
   "execution_count": null,
   "id": "3b977d98-a271-4c86-b49b-2980f053a875",
   "metadata": {},
   "outputs": [],
   "source": [
    "batch_size = 128"
   ]
  },
  {
   "cell_type": "code",
   "execution_count": null,
   "id": "32338943-0ae4-42f6-9171-20faf33a30d1",
   "metadata": {},
   "outputs": [],
   "source": [
    "datagen = tf.keras.preprocessing.image.ImageDataGenerator(rescale = 1./255.,\n",
    "                                   rotation_range = 15,\n",
    "                                   width_shift_range = 0.1,\n",
    "                                   height_shift_range = 0.1,\n",
    "                                   shear_range = 0.2,\n",
    "                                   zoom_range = 0.2,\n",
    "                                   horizontal_flip = True)"
   ]
  },
  {
   "cell_type": "code",
   "execution_count": null,
   "id": "f3bb7372-d01e-4c56-9edb-a58c416a2915",
   "metadata": {},
   "outputs": [],
   "source": [
    "valid_datagen = tf.keras.preprocessing.image.ImageDataGenerator(rescale=1./255)"
   ]
  },
  {
   "cell_type": "code",
   "execution_count": null,
   "id": "e8c54a70-c874-42f6-b540-7bad21c146fd",
   "metadata": {},
   "outputs": [],
   "source": [
    "train_generator = datagen.flow_from_directory(train_path,\n",
    "                                              batch_size = batch_size,\n",
    "                                              class_mode = 'categorical', \n",
    "                                              target_size = size,\n",
    "                                              color_mode=\"rgb\",\n",
    "                                              shuffle=True,\n",
    "                                              seed=100)"
   ]
  },
  {
   "cell_type": "code",
   "execution_count": null,
   "id": "dc1a6a01-9ae5-4f21-90c5-dfe044920863",
   "metadata": {},
   "outputs": [],
   "source": [
    "validation_generator = valid_datagen.flow_from_directory(valid_path,\n",
    "                                                         batch_size = batch_size,\n",
    "                                                         class_mode = 'categorical', \n",
    "                                                         target_size = size,\n",
    "                                                         shuffle=True,\n",
    "                                                         color_mode=\"rgb\",\n",
    "                                                         seed=100)"
   ]
  },
  {
   "cell_type": "code",
   "execution_count": null,
   "id": "55e791f7-9eb8-4876-8ae1-7ea29f2e9c53",
   "metadata": {},
   "outputs": [],
   "source": [
    "test_generator = valid_datagen.flow_from_directory(test_path,\n",
    "                                                         batch_size = batch_size,\n",
    "                                                         class_mode = 'categorical', \n",
    "                                                         target_size = size,\n",
    "                                                         shuffle=True,\n",
    "                                                         seed=100)"
   ]
  },
  {
   "cell_type": "code",
   "execution_count": null,
   "id": "8bb78821-935e-4790-822d-bd25a7a76778",
   "metadata": {},
   "outputs": [],
   "source": [
    "plt.imshow(validation_generator.next()[0][19])"
   ]
  },
  {
   "cell_type": "code",
   "execution_count": null,
   "id": "94f07649-7286-4145-8739-c527e7aa9438",
   "metadata": {},
   "outputs": [],
   "source": [
    "input_shape = train_generator.next()[0].shape[1:]"
   ]
  },
  {
   "cell_type": "code",
   "execution_count": null,
   "id": "2c100bbe-2cbe-4b95-bfa7-aa4a4553aa9b",
   "metadata": {},
   "outputs": [],
   "source": [
    "num_classes = train_generator.next()[1].shape[1]"
   ]
  },
  {
   "cell_type": "code",
   "execution_count": null,
   "id": "c6682f50-86eb-4686-9721-76dc477d5616",
   "metadata": {},
   "outputs": [],
   "source": [
    "input_shape"
   ]
  },
  {
   "cell_type": "code",
   "execution_count": null,
   "id": "d2efc0e5-80ac-4f49-bd21-346fe249b68c",
   "metadata": {},
   "outputs": [],
   "source": [
    "num_classes"
   ]
  },
  {
   "cell_type": "code",
   "execution_count": null,
   "id": "3a271199-98b3-4a10-b3c9-39735eb86537",
   "metadata": {},
   "outputs": [],
   "source": [
    "num_of_train_samples = 12271\n",
    "num_of_validation_samples = 2630"
   ]
  },
  {
   "cell_type": "markdown",
   "id": "27a41ec0-32e7-41d2-9e9a-f789f810d051",
   "metadata": {},
   "source": [
    "optimizer = tf.keras.optimizers.SGD(learning_rate=0.03)"
   ]
  },
  {
   "cell_type": "code",
   "execution_count": null,
   "id": "5832558f-a429-4820-b59b-0a05452e1d43",
   "metadata": {},
   "outputs": [],
   "source": [
    "model = tf.keras.applications.ResNet50(\n",
    "    include_top=True,\n",
    "    weights=None,\n",
    "    input_shape=input_shape,\n",
    "    pooling=\"max\",\n",
    "    classes=num_classes,\n",
    ")"
   ]
  },
  {
   "cell_type": "markdown",
   "id": "e3990ba1-ec96-45c8-8748-9bbb4ce63008",
   "metadata": {},
   "source": [
    "model = tf.keras.Sequential()\n",
    "model.add(Conv2D(64, (64,64),padding='same',activation='relu',input_shape=input_shape,name='conv2d_1'))\n",
    "model.add(tf.keras.layers.BatchNormalization())\n",
    "model.add(MaxPooling2D(pool_size=(2, 2),name='maxpool2d_1'))\n",
    "model.add(Conv2D(32, (16,16),activation='relu',name='conv2d_2'))\n",
    "model.add(tf.keras.layers.BatchNormalization())\n",
    "model.add(MaxPooling2D(pool_size=(2, 2),name='maxpool2d_2'))\n",
    "model.add(Flatten())\n",
    "model.add(Dense(2048,activation='relu'))\n",
    "model.add(tf.keras.layers.BatchNormalization())\n",
    "model.add(Dense(1024,activation='relu'))\n",
    "#model.add(tf.keras.layers.BatchNormalization())\n",
    "#model.add(Dense(512,activation='relu'))\n",
    "#model.add(tf.keras.layers.BatchNormalization())\n",
    "#model.add(Dense(256,activation='relu'))\n",
    "#model.add(tf.keras.layers.BatchNormalization())\n",
    "model.add(Dense(num_classes,activation=\"softmax\"))"
   ]
  },
  {
   "cell_type": "code",
   "execution_count": null,
   "id": "ab1692de-8b84-40eb-9fe5-92dc061683de",
   "metadata": {},
   "outputs": [],
   "source": [
    "class ArcFaceLoss(tf.keras.losses.Loss) :\n",
    "    # m:margin\n",
    "    # s:magnification\n",
    "    # loss_func:Original loss function tf.keras.losses.CategoricalCrossentropy(from_logits = True)Such\n",
    "    def __init__(self, loss_func, m = 0.5, s = 30, name = \"arcface_loss\", **kwargs) :\n",
    "        self.loss_func = loss_func\n",
    "        self.margin = m\n",
    "        self.s = s\n",
    "        self.enable = True\n",
    "        super(ArcFaceLoss, self).__init__(name = name, **kwargs)\n",
    "\n",
    "    def call(self, y_true, y_pred):\n",
    "        # y_pred is cos(θ)\n",
    "        #Sin for the addition theorem(θ)To calculate\n",
    "        self.cos_m = tf.keras.backend.cos(self.margin)\n",
    "        self.sin_m = tf.keras.backend.sin(self.margin)\n",
    "        sine = tf.keras.backend.sqrt(1.0 - tf.keras.backend.square(y_pred))\n",
    "        phi = y_pred * self.cos_m - sine * self.sin_m       # cos(θ+m)Addition theorem\n",
    "        phi = tf.where(y_pred > 0, phi, y_pred)             #As it is when facing the day after tomorrow\n",
    "\n",
    "        #Correct answer class:cos(θ+m)Other classes:cosθ \n",
    "        logits = (y_true * phi) + ((1.0 - y_true) * y_pred)\n",
    "\n",
    "        #Call the original loss function\n",
    "        return self.loss_func(y_true, logits * self.s)"
   ]
  },
  {
   "cell_type": "code",
   "execution_count": null,
   "id": "a70effcd-bb7b-4803-80d3-7c1029514ff3",
   "metadata": {},
   "outputs": [],
   "source": [
    "optimizer = tf.keras.optimizers.Adam(learning_rate=0.004, beta_1=0.9, beta_2=0.999, epsilon=0.1)"
   ]
  },
  {
   "cell_type": "code",
   "execution_count": null,
   "id": "6311ea5a-0b53-4dc2-89fa-2525f07868c3",
   "metadata": {},
   "outputs": [],
   "source": [
    "loss = ArcFaceLoss(tf.keras.losses.CategoricalCrossentropy(from_logits = True))"
   ]
  },
  {
   "cell_type": "code",
   "execution_count": null,
   "id": "3fb1c21e-4510-4315-9e71-29422b7b3729",
   "metadata": {},
   "outputs": [],
   "source": [
    "model.compile(loss=loss,\n",
    "              optimizer=optimizer,\n",
    "              metrics=['accuracy'])"
   ]
  },
  {
   "cell_type": "code",
   "execution_count": null,
   "id": "0e4118b3-62c7-4f1a-900e-d7727acc44a2",
   "metadata": {
    "tags": []
   },
   "outputs": [],
   "source": [
    "model.summary()"
   ]
  },
  {
   "cell_type": "code",
   "execution_count": null,
   "id": "113c4adf-f87b-4c57-b6a1-0ecadac7f46f",
   "metadata": {
    "tags": []
   },
   "outputs": [],
   "source": [
    "model.fit(\n",
    "        train_generator,\n",
    "        steps_per_epoch=num_of_train_samples/batch_size,\n",
    "        epochs=100,\n",
    "        validation_data=validation_generator,\n",
    "        validation_steps=num_of_validation_samples/batch_size)"
   ]
  },
  {
   "cell_type": "markdown",
   "id": "b8899d33-0e2b-4e8d-9b69-192646e3b480",
   "metadata": {},
   "source": [
    "model.save(r\"C:\\Users\\enes_\\Documents\\GitHub\\Meturone\\Meturone\\Celebrity CNN\")"
   ]
  },
  {
   "cell_type": "markdown",
   "id": "1f31e14a-2d24-4c34-8555-08359c20046c",
   "metadata": {},
   "source": [
    "model_linear = tf.keras.Sequential()\n",
    "model_linear.add(Flatten())\n",
    "model_linear.add(Dense(4096,activation='relu'))\n",
    "model_linear.add(Dense(2048,activation='relu'))\n",
    "model_linear.add(Dense(1024,activation='relu'))\n",
    "model_linear.add(Dense(512,activation='relu'))\n",
    "model_linear.add(Dense(num_classes,activation=\"softmax\"))"
   ]
  },
  {
   "cell_type": "markdown",
   "id": "1d39e536-864c-466c-997d-7fa83c183845",
   "metadata": {},
   "source": [
    "model_linear.compile(loss=\"categorical_crossentropy\",\n",
    "              optimizer=optimizer,\n",
    "              metrics=['accuracy'])"
   ]
  },
  {
   "cell_type": "markdown",
   "id": "0ebf8dbb-2ebf-4dcd-9994-769292dece79",
   "metadata": {},
   "source": [
    "model_linear.fit(\n",
    "        train_generator,\n",
    "        steps_per_epoch=num_of_train_samples/batch_size,\n",
    "        epochs=10,\n",
    "        validation_data=validation_generator,\n",
    "        validation_steps=num_of_validation_samples/batch_size)"
   ]
  },
  {
   "cell_type": "markdown",
   "id": "4aae7e32-a995-4312-8b9e-f70e7489c0a3",
   "metadata": {},
   "source": [
    "model_trained = tf.keras.models.load_model(r\"C:\\Users\\enes_\\Documents\\GitHub\\Meturone\\Meturone\\Celebrity CNN\")"
   ]
  },
  {
   "cell_type": "markdown",
   "id": "ba0b866b-0696-4af2-badb-dfb7297c3d9d",
   "metadata": {
    "jupyter": {
     "outputs_hidden": true
    },
    "tags": []
   },
   "source": [
    "model_trained.summary()"
   ]
  },
  {
   "cell_type": "markdown",
   "id": "e9ab6f0e-fee4-46d1-bf0b-5cf68917ac71",
   "metadata": {},
   "source": [
    "model_trained.evaluate(test_generator)"
   ]
  },
  {
   "cell_type": "markdown",
   "id": "1a32bdd0-8890-41e9-b9f4-8410060936ed",
   "metadata": {},
   "source": [
    "print(model_trained.history.history.values())"
   ]
  },
  {
   "cell_type": "markdown",
   "id": "2103562d-5d6d-4be5-8d5d-9b7a7f381bd8",
   "metadata": {},
   "source": [
    "print(model.history.history.keys())"
   ]
  },
  {
   "cell_type": "markdown",
   "id": "e3657117-c08c-4463-827b-a6dfc58392f8",
   "metadata": {},
   "source": [
    "model_trained.history.history[\"accuracy\"][-1]"
   ]
  },
  {
   "cell_type": "code",
   "execution_count": null,
   "id": "d528a2c2-f4c5-44ce-bd23-6b988fe9d4e6",
   "metadata": {},
   "outputs": [],
   "source": []
  }
 ],
 "metadata": {
  "kernelspec": {
   "display_name": "Python 3 (ipykernel)",
   "language": "python",
   "name": "python3"
  },
  "language_info": {
   "codemirror_mode": {
    "name": "ipython",
    "version": 3
   },
   "file_extension": ".py",
   "mimetype": "text/x-python",
   "name": "python",
   "nbconvert_exporter": "python",
   "pygments_lexer": "ipython3",
   "version": "3.9.10"
  }
 },
 "nbformat": 4,
 "nbformat_minor": 5
}
