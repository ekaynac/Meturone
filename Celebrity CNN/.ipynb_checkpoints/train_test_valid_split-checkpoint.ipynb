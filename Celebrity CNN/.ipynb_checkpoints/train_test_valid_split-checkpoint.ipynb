{
 "cells": [
  {
   "cell_type": "code",
   "execution_count": 1,
   "id": "8c86750e-656b-4bfb-9b4b-59392813c9b6",
   "metadata": {},
   "outputs": [],
   "source": [
    "import os\n",
    "import shutil"
   ]
  },
  {
   "cell_type": "code",
   "execution_count": 2,
   "id": "a2100a7f-832e-4f59-b807-c3ecddbad688",
   "metadata": {},
   "outputs": [],
   "source": [
    "PATH = 'C:/Users/enes_/Documents/GitHub/Datasets/105_classes_pins_dataset'"
   ]
  },
  {
   "cell_type": "code",
   "execution_count": 3,
   "id": "d75a209e-f6aa-4ce8-845c-4e98bf9c41ff",
   "metadata": {},
   "outputs": [],
   "source": [
    "train_path= PATH+\"/train\"\n",
    "test_path = PATH+\"/test\"\n",
    "valid_path = PATH+\"/valid\""
   ]
  },
  {
   "cell_type": "code",
   "execution_count": 4,
   "id": "a69791ea-9ab3-4bf1-9f54-010b5846ba40",
   "metadata": {
    "tags": []
   },
   "outputs": [
    {
     "name": "stdout",
     "output_type": "stream",
     "text": [
      "size: 213  train size : 149\n",
      "size: 152  train size : 106\n",
      "size: 226  train size : 158\n",
      "size: 139  train size : 97\n",
      "size: 211  train size : 148\n",
      "size: 117  train size : 82\n",
      "size: 218  train size : 153\n",
      "size: 196  train size : 137\n",
      "size: 203  train size : 142\n",
      "size: 124  train size : 87\n",
      "size: 162  train size : 113\n",
      "size: 119  train size : 83\n",
      "size: 197  train size : 138\n",
      "size: 126  train size : 88\n",
      "size: 122  train size : 85\n",
      "size: 138  train size : 97\n",
      "size: 209  train size : 146\n",
      "size: 102  train size : 71\n",
      "size: 169  train size : 118\n",
      "size: 162  train size : 113\n",
      "size: 166  train size : 116\n",
      "size: 159  train size : 111\n",
      "size: 176  train size : 123\n",
      "size: 154  train size : 108\n",
      "size: 98  train size : 69\n",
      "size: 181  train size : 127\n",
      "size: 146  train size : 102\n",
      "size: 141  train size : 99\n",
      "size: 162  train size : 113\n",
      "size: 158  train size : 111\n",
      "size: 221  train size : 155\n",
      "size: 188  train size : 132\n",
      "size: 135  train size : 94\n",
      "size: 210  train size : 147\n",
      "size: 139  train size : 97\n",
      "size: 211  train size : 148\n",
      "size: 199  train size : 139\n",
      "size: 183  train size : 128\n",
      "size: 187  train size : 131\n",
      "size: 195  train size : 136\n",
      "size: 179  train size : 125\n",
      "size: 127  train size : 89\n",
      "size: 156  train size : 109\n",
      "size: 159  train size : 111\n",
      "size: 184  train size : 129\n",
      "size: 106  train size : 74\n",
      "size: 180  train size : 126\n",
      "size: 167  train size : 117\n",
      "size: 141  train size : 99\n",
      "size: 113  train size : 79\n",
      "size: 182  train size : 127\n",
      "size: 117  train size : 82\n",
      "size: 177  train size : 124\n",
      "size: 226  train size : 158\n",
      "size: 160  train size : 112\n",
      "size: 203  train size : 142\n",
      "size: 171  train size : 120\n",
      "size: 237  train size : 166\n",
      "size: 150  train size : 105\n",
      "size: 169  train size : 118\n",
      "size: 86  train size : 60\n",
      "size: 212  train size : 148\n",
      "size: 192  train size : 134\n",
      "size: 193  train size : 135\n",
      "size: 221  train size : 155\n",
      "size: 122  train size : 85\n",
      "size: 161  train size : 113\n",
      "size: 178  train size : 125\n",
      "size: 95  train size : 66\n",
      "size: 209  train size : 146\n",
      "size: 154  train size : 108\n",
      "size: 178  train size : 125\n",
      "size: 191  train size : 134\n",
      "size: 175  train size : 122\n",
      "size: 105  train size : 74\n",
      "size: 133  train size : 93\n",
      "size: 198  train size : 139\n",
      "size: 166  train size : 116\n",
      "size: 116  train size : 81\n",
      "size: 125  train size : 88\n",
      "size: 171  train size : 120\n",
      "size: 160  train size : 112\n",
      "size: 178  train size : 125\n",
      "size: 148  train size : 104\n",
      "size: 133  train size : 93\n",
      "size: 156  train size : 109\n",
      "size: 233  train size : 163\n",
      "size: 159  train size : 111\n",
      "size: 201  train size : 141\n",
      "size: 186  train size : 130\n",
      "size: 154  train size : 108\n",
      "size: 204  train size : 143\n",
      "size: 159  train size : 111\n",
      "size: 131  train size : 92\n",
      "size: 192  train size : 134\n",
      "size: 180  train size : 126\n",
      "size: 198  train size : 139\n",
      "size: 181  train size : 127\n",
      "size: 189  train size : 132\n",
      "size: 133  train size : 93\n",
      "size: 167  train size : 117\n",
      "size: 179  train size : 125\n",
      "size: 191  train size : 134\n",
      "size: 138  train size : 97\n",
      "size: 186  train size : 130\n"
     ]
    }
   ],
   "source": [
    "for j in os.listdir(PATH):\n",
    "    class_path = PATH+\"/\"+j\n",
    "    size = len(os.listdir(class_path))\n",
    "    train_size = round(size*0.7)\n",
    "    test_size = round(size*0.15)\n",
    "    valid_size = size - train_size - test_size\n",
    "    \n",
    "    print(\"size: {}  train size : {}\".format(size,train_size))\n",
    "    \n",
    "    for i in range(train_size):\n",
    "        file_path = class_path+\"/\"+os.listdir(class_path)[i]\n",
    "        if not(os.path.isdir(file_path)):\n",
    "            new_class_path = train_path+\"/\"+j\n",
    "            os.makedirs(new_class_path, exist_ok=True)\n",
    "            new_image_path = new_class_path + \"/\" + os.listdir(class_path)[i]\n",
    "            shutil.copyfile(file_path, new_image_path)\n",
    "            \n",
    "    for i in range(train_size,train_size+test_size):\n",
    "        file_path = class_path+\"/\"+os.listdir(class_path)[i]\n",
    "        if not(os.path.isdir(file_path)):\n",
    "            new_class_path = test_path+\"/\"+j\n",
    "            os.makedirs(new_class_path, exist_ok=True)\n",
    "            new_image_path = new_class_path + \"/\" + os.listdir(class_path)[i]\n",
    "            shutil.copyfile(file_path, new_image_path)\n",
    "            \n",
    "    for i in range(train_size+test_size,train_size+test_size+valid_size):\n",
    "        file_path = class_path+\"/\"+os.listdir(class_path)[i]\n",
    "        if not(os.path.isdir(file_path)):\n",
    "            new_class_path = valid_path+\"/\"+j\n",
    "            os.makedirs(new_class_path, exist_ok=True)\n",
    "            new_image_path = new_class_path + \"/\" + os.listdir(class_path)[i]\n",
    "            shutil.copyfile(file_path, new_image_path)\n",
    "            \n",
    "            \n",
    "    "
   ]
  },
  {
   "cell_type": "code",
   "execution_count": 5,
   "id": "6e9be005-d6f4-4b28-9c3b-f4fd63da1657",
   "metadata": {},
   "outputs": [
    {
     "data": {
      "text/plain": [
       "186"
      ]
     },
     "execution_count": 5,
     "metadata": {},
     "output_type": "execute_result"
    }
   ],
   "source": [
    "len(os.listdir(class_path))"
   ]
  },
  {
   "cell_type": "code",
   "execution_count": null,
   "id": "57005e9c-6dfc-4d10-b2c5-b0308f3ba62a",
   "metadata": {},
   "outputs": [],
   "source": []
  }
 ],
 "metadata": {
  "kernelspec": {
   "display_name": "Python 3 (ipykernel)",
   "language": "python",
   "name": "python3"
  },
  "language_info": {
   "codemirror_mode": {
    "name": "ipython",
    "version": 3
   },
   "file_extension": ".py",
   "mimetype": "text/x-python",
   "name": "python",
   "nbconvert_exporter": "python",
   "pygments_lexer": "ipython3",
   "version": "3.9.10"
  }
 },
 "nbformat": 4,
 "nbformat_minor": 5
}
