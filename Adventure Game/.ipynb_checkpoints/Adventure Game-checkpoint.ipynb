{
 "cells": [
  {
   "cell_type": "code",
   "execution_count": 1,
   "id": "4e76003c-c5e3-4cf1-bd55-25ce89138b5a",
   "metadata": {},
   "outputs": [],
   "source": [
    "import numpy as np\n",
    "from random import randrange"
   ]
  },
  {
   "cell_type": "code",
   "execution_count": 12,
   "id": "bf4e1f45-f4fb-4e26-91e3-cae4966b2ed6",
   "metadata": {},
   "outputs": [],
   "source": [
    "class AdventureGame():\n",
    "    \n",
    "    def __init__(self,size=(6,7),treasure_count=5,monster_count=5,sword_count=2,potion_count=3,venom_count=3):\n",
    "        self.y_size= size[0]\n",
    "        self.x_size= size[1]\n",
    "        self.starting_coordinate = self.rand_coordinate()\n",
    "        self.map = np.empty(size,dtype=str)\n",
    "        self.seen_map = np.empty(size,dtype=str)\n",
    "        self.treasure_count = treasure_count\n",
    "        self.monster_count = monster_count\n",
    "        self.sword_count = sword_count\n",
    "        self.potion_count = potion_count\n",
    "        self.venom_count = venom_count\n",
    "        self.point = 0\n",
    "        self.sword = 0\n",
    "        self.potion = 0\n",
    "        self.score = 0\n",
    "        self.sword_stash = 0\n",
    "        self.potion_stash = 0\n",
    "        self.alert_reset()\n",
    "        self.passed_coordinates =np.array(self.starting_coordinate)\n",
    "        self.objective_coordinates = self.rand_coordinates()\n",
    "        self.treasure_coordinates = self.objective_coordinates[1:1+self.treasure_count]\n",
    "        self.monster_coordinates = self.objective_coordinates[1+self.treasure_count:1+self.treasure_count+self.monster_count]\n",
    "        self.sword_coordinates = self.objective_coordinates[1+self.treasure_count+self.monster_count:1+self.treasure_count+self.monster_count+self.sword_count]\n",
    "        self.potion_coordinates = self.objective_coordinates[1+self.treasure_count+self.monster_count+self.sword_count:1+self.treasure_count+self.monster_count+self.sword_count+self.potion_count]\n",
    "        self.venom_coordinates = self.objective_coordinates[1+self.treasure_count+self.monster_count+self.sword_count+self.potion_count:1+self.treasure_count+self.monster_count+self.sword_count+self.potion_count+self.venom_count]\n",
    "        \n",
    "        \n",
    "    \n",
    "    def rand_coordinate(self):\n",
    "        y= randrange(self.x_size)\n",
    "        x= randrange(self.y_size)\n",
    "        coordinate=np.array([x,y])\n",
    "        return coordinate\n",
    "    \n",
    "    def check_if_contains(self, arr, coordinate):\n",
    "        flag=0\n",
    "        for i in arr:\n",
    "            if np.array_equal(i,coordinate):\n",
    "                flag= flag+1\n",
    "        if flag==0:\n",
    "            return False\n",
    "        else:\n",
    "            return True\n",
    "        \n",
    "    def rand_coordinates(self):\n",
    "        count=self.treasure_count + self.monster_count + self.sword_count + self.potion_count + self.venom_count\n",
    "\n",
    "        coordinates=np.array(self.starting_coordinate)\n",
    "        \n",
    "        while len(coordinates)<count+1:\n",
    "            new_coordinate=self.rand_coordinate()\n",
    "        \n",
    "            if not(self.check_if_contains(coordinates,new_coordinate)):\n",
    "                coordinates = np.vstack((coordinates,new_coordinate))\n",
    "        return coordinates\n",
    "    \n",
    "    def player_step(self,current_coordinate,direction):\n",
    "        if direction == \"d\":\n",
    "            self.passed_coordinates = np.vstack((self.passed_coordinates,current_coordinate))\n",
    "            next_coordinate = np.add(current_coordinate, [1,0])\n",
    "            if not(self.check_if_passed(next_coordinate)):\n",
    "                current_coordinate = next_coordinate\n",
    "            else:\n",
    "                self.passed_alert=1\n",
    "        elif direction == \"u\":\n",
    "            self.passed_coordinates = np.vstack((self.passed_coordinates,current_coordinate))\n",
    "            next_coordinate = np.add(current_coordinate, [-1,0])\n",
    "            if not(self.check_if_passed(next_coordinate)):\n",
    "                current_coordinate = next_coordinate\n",
    "            else:\n",
    "                self.passed_alert=1\n",
    "        elif direction == \"r\":\n",
    "            self.passed_coordinates = np.vstack((self.passed_coordinates,current_coordinate))\n",
    "            next_coordinate = np.add(current_coordinate, [0,1])\n",
    "            if not(self.check_if_passed(next_coordinate)):\n",
    "                current_coordinate = next_coordinate\n",
    "            else:\n",
    "                self.passed_alert=1\n",
    "        elif direction == \"l\":\n",
    "            self.passed_coordinates = np.vstack((self.passed_coordinates,current_coordinate))\n",
    "            next_coordinate = np.add(current_coordinate, [0,-1])\n",
    "            if not(self.check_if_passed(next_coordinate)):\n",
    "                current_coordinate = next_coordinate\n",
    "            else:\n",
    "                self.passed_alert=1\n",
    "        else:\n",
    "            print(\"wrong direction check\")\n",
    "        return current_coordinate\n",
    "    \n",
    "    def init_scene(self):\n",
    "        for coordinate in self.monster_coordinates:\n",
    "            self.map[coordinate[0],coordinate[1]]=\"M\"\n",
    "        for coordinate in self.treasure_coordinates:\n",
    "            self.map[coordinate[0],coordinate[1]]=\"T\"\n",
    "        for coordinate in self.sword_coordinates:\n",
    "            self.map[coordinate[0],coordinate[1]]=\"S\"\n",
    "        for coordinate in self.potion_coordinates:\n",
    "            self.map[coordinate[0],coordinate[1]]=\"P\"\n",
    "        for coordinate in self.venom_coordinates:\n",
    "            self.map[coordinate[0],coordinate[1]]=\"V\"\n",
    "            \n",
    "        self.player_coordinate = self.starting_coordinate\n",
    "        self.seen_map[self.starting_coordinate[0],self.starting_coordinate[1]] = \"*\"\n",
    "        print(self.seen_map)\n",
    "        \n",
    "    def seen_map_update(self):\n",
    "        self.seen_map[self.player_coordinate[0],self.player_coordinate[1]] = \"*\"\n",
    "        \n",
    "    def check_current_tile(self):\n",
    "        for coordinate in self.monster_coordinates:\n",
    "            if self.is_same_coordinate(self.player_coordinate,coordinate):\n",
    "                self.alert_setup(\"m\")\n",
    "                self.sword_stash -=1\n",
    "                \n",
    "        for coordinate in self.treasure_coordinates:\n",
    "            if self.is_same_coordinate(self.player_coordinate,coordinate):\n",
    "                self.alert_setup(\"t\")\n",
    "                self.score +=1\n",
    "                \n",
    "        for coordinate in self.potion_coordinates:\n",
    "            if self.is_same_coordinate(self.player_coordinate,coordinate):\n",
    "                self.alert_setup(\"p\")\n",
    "                self.potion_stash +=1\n",
    "                \n",
    "        for coordinate in self.sword_coordinates:\n",
    "            if self.is_same_coordinate(self.player_coordinate,coordinate):\n",
    "                self.alert_setup(\"s\")\n",
    "                self.sword_stash += 1\n",
    "                \n",
    "        for coordinate in self.venom_coordinates:\n",
    "            if self.is_same_coordinate(self.player_coordinate,coordinate):\n",
    "                self.alert_setup(\"v\")\n",
    "                self.potion_stash -= 1\n",
    "                \n",
    "    def next_scene(self):\n",
    "        direction = input()[0].lower()\n",
    "        self.seen_map[self.player_coordinate[0],self.player_coordinate[1]] = \"\"\n",
    "        self.player_coordinate = self.player_step(self.player_coordinate,direction)\n",
    "        self.check_current_tile()\n",
    "        #print(\"\\033[H\\033[J\", end=\"\")\n",
    "        self.seen_map_update()\n",
    "        print(self.seen_map)\n",
    "        \n",
    "    def play(self):\n",
    "        self.init_scene()\n",
    "        flag=1\n",
    "        while flag:\n",
    "            self.alert_reset()\n",
    "            self.next_scene()\n",
    "            self.menu()\n",
    "            \n",
    "    def is_same_coordinate(self,x,y):\n",
    "        if x[0] == y[0] and x[1] == y[1]:\n",
    "            return True\n",
    "        else:\n",
    "            return False\n",
    "        \n",
    "    def check_if_passed(self,coordinate):\n",
    "        return self.check_if_contains(self.passed_coordinates, coordinate)\n",
    "    \n",
    "    def alert_reset(self):\n",
    "        self.monster_alert=0\n",
    "        self.treasure_alert=0\n",
    "        self.potion_alert=0\n",
    "        self.sword_alert=0\n",
    "        self.venom_alert=0\n",
    "        self.passed_alert=0\n",
    "    \n",
    "    def alert_setup(self,alert):\n",
    "        if alert == \"m\":\n",
    "            self.monster_alert=1\n",
    "        elif alert == \"t\":\n",
    "            self.treasure_alert=1\n",
    "        elif alert == \"s\":\n",
    "            self.sword_alert=1\n",
    "        elif alert == \"v\":\n",
    "            self.venom_alert=1\n",
    "        elif alert == \"p\":\n",
    "            self.potion_alert=1\n",
    "            \n",
    "    def alert_print(self):\n",
    "        if self.monster_alert==1:\n",
    "            print(\"OH! You have encountered a monster!\")\n",
    "        elif self.treasure_alert==1:\n",
    "            print(\"You have found a treasure!\")\n",
    "        elif self.sword_alert==1:\n",
    "            print(\"That is a shiny sword you have found!\")\n",
    "        elif self.venom_alert==1:\n",
    "            print(\"A venomous snake bite you\")\n",
    "        elif self.potion_alert==1:\n",
    "            print(\"You have find an antidote potion\")\n",
    "            \n",
    "    def menu(self):\n",
    "        print(\"\\n\")\n",
    "        print(\"------------------------------------------\")\n",
    "        print(\"\\n\")\n",
    "        self.alert_print()\n",
    "        print(\"\\n\")\n",
    "        if self.passed_alert == 1:\n",
    "            print(\"You have already passed from that tile. Try another way!\")\n",
    "        print(\"Score: [{}]  Sword:[{}]  Potion[{}]\".format(self.score,self.sword_stash,self.potion_stash))\n",
    "        \n",
    "        "
   ]
  },
  {
   "cell_type": "code",
   "execution_count": 13,
   "id": "e1d8e1ea-eac1-458c-aa13-3496f53a41dc",
   "metadata": {},
   "outputs": [],
   "source": [
    "session = AdventureGame()"
   ]
  },
  {
   "cell_type": "code",
   "execution_count": null,
   "id": "12414623-b1a0-4947-a884-41bc5179dfc5",
   "metadata": {
    "tags": []
   },
   "outputs": [
    {
     "name": "stdout",
     "output_type": "stream",
     "text": [
      "[['' '' '' '' '' '' '']\n",
      " ['' '' '' '' '' '' '']\n",
      " ['' '' '' '' '*' '' '']\n",
      " ['' '' '' '' '' '' '']\n",
      " ['' '' '' '' '' '' '']\n",
      " ['' '' '' '' '' '' '']]\n"
     ]
    },
    {
     "name": "stdin",
     "output_type": "stream",
     "text": [
      " u\n"
     ]
    },
    {
     "name": "stdout",
     "output_type": "stream",
     "text": [
      "[['' '' '' '' '' '' '']\n",
      " ['' '' '' '' '*' '' '']\n",
      " ['' '' '' '' '' '' '']\n",
      " ['' '' '' '' '' '' '']\n",
      " ['' '' '' '' '' '' '']\n",
      " ['' '' '' '' '' '' '']]\n",
      "\n",
      "\n",
      "------------------------------------------\n",
      "\n",
      "\n",
      "You have found a treasure!\n",
      "\n",
      "\n",
      "Score: [1]  Sword:[0]  Potion[0]\n"
     ]
    },
    {
     "name": "stdin",
     "output_type": "stream",
     "text": [
      " r\n"
     ]
    },
    {
     "name": "stdout",
     "output_type": "stream",
     "text": [
      "[['' '' '' '' '' '' '']\n",
      " ['' '' '' '' '' '*' '']\n",
      " ['' '' '' '' '' '' '']\n",
      " ['' '' '' '' '' '' '']\n",
      " ['' '' '' '' '' '' '']\n",
      " ['' '' '' '' '' '' '']]\n",
      "\n",
      "\n",
      "------------------------------------------\n",
      "\n",
      "\n",
      "OH! You have encountered a monster!\n",
      "\n",
      "\n",
      "Score: [1]  Sword:[-1]  Potion[0]\n"
     ]
    },
    {
     "name": "stdin",
     "output_type": "stream",
     "text": [
      " r\n"
     ]
    },
    {
     "name": "stdout",
     "output_type": "stream",
     "text": [
      "[['' '' '' '' '' '' '']\n",
      " ['' '' '' '' '' '' '*']\n",
      " ['' '' '' '' '' '' '']\n",
      " ['' '' '' '' '' '' '']\n",
      " ['' '' '' '' '' '' '']\n",
      " ['' '' '' '' '' '' '']]\n",
      "\n",
      "\n",
      "------------------------------------------\n",
      "\n",
      "\n",
      "\n",
      "\n",
      "Score: [1]  Sword:[-1]  Potion[0]\n"
     ]
    },
    {
     "name": "stdin",
     "output_type": "stream",
     "text": [
      " l\n"
     ]
    },
    {
     "name": "stdout",
     "output_type": "stream",
     "text": [
      "[['' '' '' '' '' '' '']\n",
      " ['' '' '' '' '' '' '*']\n",
      " ['' '' '' '' '' '' '']\n",
      " ['' '' '' '' '' '' '']\n",
      " ['' '' '' '' '' '' '']\n",
      " ['' '' '' '' '' '' '']]\n",
      "\n",
      "\n",
      "------------------------------------------\n",
      "\n",
      "\n",
      "\n",
      "\n",
      "You have already passed from that tile. Try another way!\n",
      "Score: [1]  Sword:[-1]  Potion[0]\n"
     ]
    },
    {
     "name": "stdin",
     "output_type": "stream",
     "text": [
      " u\n"
     ]
    },
    {
     "name": "stdout",
     "output_type": "stream",
     "text": [
      "[['' '' '' '' '' '' '*']\n",
      " ['' '' '' '' '' '' '']\n",
      " ['' '' '' '' '' '' '']\n",
      " ['' '' '' '' '' '' '']\n",
      " ['' '' '' '' '' '' '']\n",
      " ['' '' '' '' '' '' '']]\n",
      "\n",
      "\n",
      "------------------------------------------\n",
      "\n",
      "\n",
      "You have find an antidote potion\n",
      "\n",
      "\n",
      "Score: [1]  Sword:[-1]  Potion[1]\n"
     ]
    },
    {
     "name": "stdin",
     "output_type": "stream",
     "text": [
      " d\n"
     ]
    },
    {
     "name": "stdout",
     "output_type": "stream",
     "text": [
      "[['' '' '' '' '' '' '*']\n",
      " ['' '' '' '' '' '' '']\n",
      " ['' '' '' '' '' '' '']\n",
      " ['' '' '' '' '' '' '']\n",
      " ['' '' '' '' '' '' '']\n",
      " ['' '' '' '' '' '' '']]\n",
      "\n",
      "\n",
      "------------------------------------------\n",
      "\n",
      "\n",
      "You have find an antidote potion\n",
      "\n",
      "\n",
      "You have already passed from that tile. Try another way!\n",
      "Score: [1]  Sword:[-1]  Potion[2]\n"
     ]
    },
    {
     "name": "stdin",
     "output_type": "stream",
     "text": [
      " d\n"
     ]
    },
    {
     "name": "stdout",
     "output_type": "stream",
     "text": [
      "[['' '' '' '' '' '' '*']\n",
      " ['' '' '' '' '' '' '']\n",
      " ['' '' '' '' '' '' '']\n",
      " ['' '' '' '' '' '' '']\n",
      " ['' '' '' '' '' '' '']\n",
      " ['' '' '' '' '' '' '']]\n",
      "\n",
      "\n",
      "------------------------------------------\n",
      "\n",
      "\n",
      "You have find an antidote potion\n",
      "\n",
      "\n",
      "You have already passed from that tile. Try another way!\n",
      "Score: [1]  Sword:[-1]  Potion[3]\n"
     ]
    },
    {
     "name": "stdin",
     "output_type": "stream",
     "text": [
      " d\n"
     ]
    },
    {
     "name": "stdout",
     "output_type": "stream",
     "text": [
      "[['' '' '' '' '' '' '*']\n",
      " ['' '' '' '' '' '' '']\n",
      " ['' '' '' '' '' '' '']\n",
      " ['' '' '' '' '' '' '']\n",
      " ['' '' '' '' '' '' '']\n",
      " ['' '' '' '' '' '' '']]\n",
      "\n",
      "\n",
      "------------------------------------------\n",
      "\n",
      "\n",
      "You have find an antidote potion\n",
      "\n",
      "\n",
      "You have already passed from that tile. Try another way!\n",
      "Score: [1]  Sword:[-1]  Potion[4]\n"
     ]
    },
    {
     "name": "stdin",
     "output_type": "stream",
     "text": [
      " d\n"
     ]
    },
    {
     "name": "stdout",
     "output_type": "stream",
     "text": [
      "[['' '' '' '' '' '' '*']\n",
      " ['' '' '' '' '' '' '']\n",
      " ['' '' '' '' '' '' '']\n",
      " ['' '' '' '' '' '' '']\n",
      " ['' '' '' '' '' '' '']\n",
      " ['' '' '' '' '' '' '']]\n",
      "\n",
      "\n",
      "------------------------------------------\n",
      "\n",
      "\n",
      "You have find an antidote potion\n",
      "\n",
      "\n",
      "You have already passed from that tile. Try another way!\n",
      "Score: [1]  Sword:[-1]  Potion[5]\n"
     ]
    }
   ],
   "source": [
    "session.play()"
   ]
  },
  {
   "cell_type": "code",
   "execution_count": null,
   "id": "5b427c99-1b8e-4c44-b68f-52a202d711b1",
   "metadata": {},
   "outputs": [],
   "source": [
    "session.init_scene()"
   ]
  },
  {
   "cell_type": "code",
   "execution_count": null,
   "id": "c8c9c0fb-5c0b-4449-9273-a0e663861297",
   "metadata": {},
   "outputs": [],
   "source": [
    "session.rand_coordinate()"
   ]
  },
  {
   "cell_type": "code",
   "execution_count": null,
   "id": "caeb5a63-e5e9-4655-87ea-467857c3e414",
   "metadata": {},
   "outputs": [],
   "source": [
    "session.starting_coordinate"
   ]
  },
  {
   "cell_type": "code",
   "execution_count": null,
   "id": "52d766ca-ad54-4331-9380-9388cbde3561",
   "metadata": {},
   "outputs": [],
   "source": [
    "session.monster_coordinates"
   ]
  },
  {
   "cell_type": "code",
   "execution_count": null,
   "id": "b72b11fd-e0a9-47b8-8987-2dde391e2a3c",
   "metadata": {},
   "outputs": [],
   "source": [
    "session.step([0,0],\"up\")"
   ]
  },
  {
   "cell_type": "code",
   "execution_count": null,
   "id": "4982f255-f16e-41d0-b681-6825c9c72d59",
   "metadata": {},
   "outputs": [],
   "source": [
    "session.step([0,0],\"down\")"
   ]
  },
  {
   "cell_type": "code",
   "execution_count": null,
   "id": "a3e4539f-49c9-4f25-bb61-42db9084f51f",
   "metadata": {},
   "outputs": [],
   "source": [
    "session.step([0,0],\"right\")"
   ]
  },
  {
   "cell_type": "code",
   "execution_count": null,
   "id": "b750ebfb-799f-46a0-9d4a-9f58017ac985",
   "metadata": {},
   "outputs": [],
   "source": [
    "session.step([0,0],\"left\")"
   ]
  },
  {
   "cell_type": "code",
   "execution_count": null,
   "id": "8f09d7c3-3abb-445c-9b1b-5651e0eaae08",
   "metadata": {},
   "outputs": [],
   "source": []
  }
 ],
 "metadata": {
  "kernelspec": {
   "display_name": "Python 3 (ipykernel)",
   "language": "python",
   "name": "python3"
  },
  "language_info": {
   "codemirror_mode": {
    "name": "ipython",
    "version": 3
   },
   "file_extension": ".py",
   "mimetype": "text/x-python",
   "name": "python",
   "nbconvert_exporter": "python",
   "pygments_lexer": "ipython3",
   "version": "3.9.10"
  }
 },
 "nbformat": 4,
 "nbformat_minor": 5
}
