{
 "cells": [
  {
   "cell_type": "code",
   "execution_count": 1,
   "id": "4e76003c-c5e3-4cf1-bd55-25ce89138b5a",
   "metadata": {},
   "outputs": [],
   "source": [
    "import numpy as np\n",
    "from random import randrange"
   ]
  },
  {
   "cell_type": "code",
   "execution_count": 2,
   "id": "bf4e1f45-f4fb-4e26-91e3-cae4966b2ed6",
   "metadata": {},
   "outputs": [],
   "source": [
    "class AdventureGame():\n",
    "    \n",
    "    def __init__(self,size=(6,7),treasure_count=5,monster_count=5,sword_count=2,potion_count=3,venom_count=3):\n",
    "        self.y_size= size[0]\n",
    "        self.x_size= size[1]\n",
    "        self.starting_coordinate = self.rand_coordinate()\n",
    "        self.map = np.empty(size,dtype=str)\n",
    "        self.seen_map = np.empty(size,dtype=str)\n",
    "        self.treasure_count = treasure_count\n",
    "        self.monster_count = monster_count\n",
    "        self.sword_count = sword_count\n",
    "        self.potion_count = potion_count\n",
    "        self.venom_count = venom_count\n",
    "        self.point = 0\n",
    "        self.sword = 0\n",
    "        self.potion = 0\n",
    "        self.score = 0\n",
    "        self.sword_stash = 0\n",
    "        self.potion_stash = 0\n",
    "        self.alert_reset()\n",
    "        self.passed_coordinates =np.array(self.starting_coordinate)\n",
    "        self.objective_coordinates = self.rand_coordinates()\n",
    "        self.treasure_coordinates = self.objective_coordinates[1:1+self.treasure_count]\n",
    "        self.monster_coordinates = self.objective_coordinates[1+self.treasure_count:1+self.treasure_count+self.monster_count]\n",
    "        self.sword_coordinates = self.objective_coordinates[1+self.treasure_count+self.monster_count:1+self.treasure_count+self.monster_count+self.sword_count]\n",
    "        self.potion_coordinates = self.objective_coordinates[1+self.treasure_count+self.monster_count+self.sword_count:1+self.treasure_count+self.monster_count+self.sword_count+self.potion_count]\n",
    "        self.venom_coordinates = self.objective_coordinates[1+self.treasure_count+self.monster_count+self.sword_count+self.potion_count:1+self.treasure_count+self.monster_count+self.sword_count+self.potion_count+self.venom_count]\n",
    "        \n",
    "        \n",
    "    \n",
    "    def rand_coordinate(self):\n",
    "        y= randrange(self.x_size)\n",
    "        x= randrange(self.y_size)\n",
    "        coordinate=np.array([x,y])\n",
    "        return coordinate\n",
    "    \n",
    "    def check_if_contains(self, arr, coordinate):\n",
    "        flag=0\n",
    "        for i in arr:\n",
    "            if np.array_equal(i,coordinate):\n",
    "                flag= flag+1\n",
    "        if flag==0:\n",
    "            return False\n",
    "        else:\n",
    "            return True\n",
    "        \n",
    "    def rand_coordinates(self):\n",
    "        count=self.treasure_count + self.monster_count + self.sword_count + self.potion_count + self.venom_count\n",
    "\n",
    "        coordinates=np.array(self.starting_coordinate)\n",
    "        \n",
    "        while len(coordinates)<count+1:\n",
    "            new_coordinate=self.rand_coordinate()\n",
    "        \n",
    "            if not(self.check_if_contains(coordinates,new_coordinate)):\n",
    "                coordinates = np.vstack((coordinates,new_coordinate))\n",
    "        return coordinates\n",
    "    \n",
    "    def player_step(self,current_coordinate,direction):\n",
    "        if direction == \"d\":\n",
    "            self.passed_coordinates = np.vstack((self.passed_coordinates,current_coordinate))\n",
    "            next_coordinate = np.add(current_coordinate, [1,0])\n",
    "            if not(self.check_if_passed(next_coordinate)):\n",
    "                current_coordinate = next_coordinate\n",
    "                self.score += 1\n",
    "                self.check_current_tile()\n",
    "            else:\n",
    "                self.passed_alert=1\n",
    "        elif direction == \"u\":\n",
    "            self.passed_coordinates = np.vstack((self.passed_coordinates,current_coordinate))\n",
    "            next_coordinate = np.add(current_coordinate, [-1,0])\n",
    "            if not(self.check_if_passed(next_coordinate)):\n",
    "                current_coordinate = next_coordinate\n",
    "                self.score += 1\n",
    "                self.check_current_tile()\n",
    "            else:\n",
    "                self.passed_alert=1\n",
    "        elif direction == \"r\":\n",
    "            self.passed_coordinates = np.vstack((self.passed_coordinates,current_coordinate))\n",
    "            next_coordinate = np.add(current_coordinate, [0,1])\n",
    "            if not(self.check_if_passed(next_coordinate)):\n",
    "                current_coordinate = next_coordinate\n",
    "                self.score += 1\n",
    "                self.check_current_tile()\n",
    "            else:\n",
    "                self.passed_alert=1\n",
    "        elif direction == \"l\":\n",
    "            self.passed_coordinates = np.vstack((self.passed_coordinates,current_coordinate))\n",
    "            next_coordinate = np.add(current_coordinate, [0,-1])\n",
    "            if not(self.check_if_passed(next_coordinate)):\n",
    "                current_coordinate = next_coordinate\n",
    "                self.score += 1\n",
    "                self.check_current_tile()\n",
    "            else:\n",
    "                self.passed_alert=1\n",
    "        else:\n",
    "            print(\"wrong direction check\")\n",
    "        return current_coordinate\n",
    "    \n",
    "    def init_scene(self):\n",
    "        for coordinate in self.monster_coordinates:\n",
    "            self.map[coordinate[0],coordinate[1]]=\"M\"\n",
    "        for coordinate in self.treasure_coordinates:\n",
    "            self.map[coordinate[0],coordinate[1]]=\"T\"\n",
    "        for coordinate in self.sword_coordinates:\n",
    "            self.map[coordinate[0],coordinate[1]]=\"S\"\n",
    "        for coordinate in self.potion_coordinates:\n",
    "            self.map[coordinate[0],coordinate[1]]=\"P\"\n",
    "        for coordinate in self.venom_coordinates:\n",
    "            self.map[coordinate[0],coordinate[1]]=\"V\"\n",
    "            \n",
    "        self.player_coordinate = self.starting_coordinate\n",
    "        self.seen_map[self.starting_coordinate[0],self.starting_coordinate[1]] = \"*\"\n",
    "        print(self.seen_map)\n",
    "        \n",
    "    def seen_map_update(self):\n",
    "        self.seen_map[self.player_coordinate[0],self.player_coordinate[1]] = \"*\"\n",
    "        \n",
    "    def check_current_tile(self):\n",
    "        for coordinate in self.monster_coordinates:\n",
    "            if self.is_same_coordinate(self.player_coordinate,coordinate):\n",
    "                self.alert_setup(\"m\")\n",
    "                self.sword_stash -=1\n",
    "                \n",
    "        for coordinate in self.treasure_coordinates:\n",
    "            if self.is_same_coordinate(self.player_coordinate,coordinate):\n",
    "                self.alert_setup(\"t\")\n",
    "                self.score +=1\n",
    "                \n",
    "        for coordinate in self.potion_coordinates:\n",
    "            if self.is_same_coordinate(self.player_coordinate,coordinate):\n",
    "                self.alert_setup(\"p\")\n",
    "                self.potion_stash +=1\n",
    "                \n",
    "        for coordinate in self.sword_coordinates:\n",
    "            if self.is_same_coordinate(self.player_coordinate,coordinate):\n",
    "                self.alert_setup(\"s\")\n",
    "                self.sword_stash += 1\n",
    "                \n",
    "        for coordinate in self.venom_coordinates:\n",
    "            if self.is_same_coordinate(self.player_coordinate,coordinate):\n",
    "                self.alert_setup(\"v\")\n",
    "                self.potion_stash -= 1\n",
    "                \n",
    "    def next_scene(self):\n",
    "        direction = input()[0].lower()\n",
    "        self.seen_map[self.player_coordinate[0],self.player_coordinate[1]] = \"\"\n",
    "        self.player_coordinate = self.player_step(self.player_coordinate,direction)\n",
    "        \n",
    "        #print(\"\\033[H\\033[J\", end=\"\")\n",
    "        self.seen_map_update()\n",
    "        print(\"\\033[H\\033[J\", end=\"\")\n",
    "        print(self.seen_map)\n",
    "        \n",
    "    def play(self):\n",
    "        self.init_scene()\n",
    "        while self.alive_check():\n",
    "            self.alert_reset()\n",
    "            self.next_scene()\n",
    "            self.menu()\n",
    "        print(\"You died! Game is over.\")\n",
    "            \n",
    "    def is_same_coordinate(self,x,y):\n",
    "        if x[0] == y[0] and x[1] == y[1]:\n",
    "            return True\n",
    "        else:\n",
    "            return False\n",
    "        \n",
    "    def check_if_passed(self,coordinate):\n",
    "        return self.check_if_contains(self.passed_coordinates, coordinate)\n",
    "    \n",
    "    def alert_reset(self):\n",
    "        self.monster_alert=0\n",
    "        self.treasure_alert=0\n",
    "        self.potion_alert=0\n",
    "        self.sword_alert=0\n",
    "        self.venom_alert=0\n",
    "        self.passed_alert=0\n",
    "    \n",
    "    def alert_setup(self,alert):\n",
    "        if alert == \"m\":\n",
    "            self.monster_alert=1\n",
    "        elif alert == \"t\":\n",
    "            self.treasure_alert=1\n",
    "        elif alert == \"s\":\n",
    "            self.sword_alert=1\n",
    "        elif alert == \"v\":\n",
    "            self.venom_alert=1\n",
    "        elif alert == \"p\":\n",
    "            self.potion_alert=1\n",
    "            \n",
    "    def alert_print(self):\n",
    "        if self.monster_alert==1:\n",
    "            print(\"OH! You have encountered a monster!\")\n",
    "        elif self.treasure_alert==1:\n",
    "            print(\"You have found a treasure!\")\n",
    "        elif self.sword_alert==1:\n",
    "            print(\"That is a shiny sword you have found!\")\n",
    "        elif self.venom_alert==1:\n",
    "            print(\"A venomous snake bite you\")\n",
    "        elif self.potion_alert==1:\n",
    "            print(\"You have find an antidote potion\")\n",
    "            \n",
    "    def menu(self):\n",
    "        print(\"\\n\")\n",
    "        print(\"------------------------------------------\")\n",
    "        self.alert_print()\n",
    "        print(\"------------------------------------------\")\n",
    "        if self.passed_alert == 1:\n",
    "            print(\"You have already passed from that tile. Try another way!\")\n",
    "        print(\"Score: [{}]  Sword:[{}]  Potion[{}]\".format(self.score,self.sword_stash,self.potion_stash))\n",
    "        \n",
    "    def alive_check(self):\n",
    "        if self.potion_stash<0:\n",
    "            return False\n",
    "        if self.sword_stash<0:\n",
    "            return False\n",
    "        else:\n",
    "            return True\n",
    "        "
   ]
  },
  {
   "cell_type": "code",
   "execution_count": 6,
   "id": "e1d8e1ea-eac1-458c-aa13-3496f53a41dc",
   "metadata": {},
   "outputs": [],
   "source": [
    "session = AdventureGame()"
   ]
  },
  {
   "cell_type": "code",
   "execution_count": 7,
   "id": "90c9b26b-5f27-4fe7-bb36-a06450ce3302",
   "metadata": {
    "tags": []
   },
   "outputs": [
    {
     "name": "stdout",
     "output_type": "stream",
     "text": [
      "[['' '' '' '' '' '' '']\n",
      " ['' '' '' '' '' '*' '']\n",
      " ['' '' '' '' '' '' '']\n",
      " ['' '' '' '' '' '' '']\n",
      " ['' '' '' '' '' '' '']\n",
      " ['' '' '' '' '' '' '']]\n"
     ]
    },
    {
     "name": "stdin",
     "output_type": "stream",
     "text": [
      " u\n"
     ]
    },
    {
     "name": "stdout",
     "output_type": "stream",
     "text": [
      "\u001b[H\u001b[J[['' '' '' '' '' '*' '']\n",
      " ['' '' '' '' '' '' '']\n",
      " ['' '' '' '' '' '' '']\n",
      " ['' '' '' '' '' '' '']\n",
      " ['' '' '' '' '' '' '']\n",
      " ['' '' '' '' '' '' '']]\n",
      "\n",
      "\n",
      "------------------------------------------\n",
      "------------------------------------------\n",
      "Score: [1]  Sword:[0]  Potion[0]\n"
     ]
    },
    {
     "name": "stdin",
     "output_type": "stream",
     "text": [
      " r\n"
     ]
    },
    {
     "name": "stdout",
     "output_type": "stream",
     "text": [
      "\u001b[H\u001b[J[['' '' '' '' '' '' '*']\n",
      " ['' '' '' '' '' '' '']\n",
      " ['' '' '' '' '' '' '']\n",
      " ['' '' '' '' '' '' '']\n",
      " ['' '' '' '' '' '' '']\n",
      " ['' '' '' '' '' '' '']]\n",
      "\n",
      "\n",
      "------------------------------------------\n",
      "------------------------------------------\n",
      "Score: [2]  Sword:[0]  Potion[0]\n"
     ]
    },
    {
     "name": "stdin",
     "output_type": "stream",
     "text": [
      " d\n"
     ]
    },
    {
     "name": "stdout",
     "output_type": "stream",
     "text": [
      "\u001b[H\u001b[J[['' '' '' '' '' '' '']\n",
      " ['' '' '' '' '' '' '*']\n",
      " ['' '' '' '' '' '' '']\n",
      " ['' '' '' '' '' '' '']\n",
      " ['' '' '' '' '' '' '']\n",
      " ['' '' '' '' '' '' '']]\n",
      "\n",
      "\n",
      "------------------------------------------\n",
      "------------------------------------------\n",
      "Score: [3]  Sword:[0]  Potion[0]\n"
     ]
    },
    {
     "name": "stdin",
     "output_type": "stream",
     "text": [
      " d\n"
     ]
    },
    {
     "name": "stdout",
     "output_type": "stream",
     "text": [
      "\u001b[H\u001b[J[['' '' '' '' '' '' '']\n",
      " ['' '' '' '' '' '' '']\n",
      " ['' '' '' '' '' '' '*']\n",
      " ['' '' '' '' '' '' '']\n",
      " ['' '' '' '' '' '' '']\n",
      " ['' '' '' '' '' '' '']]\n",
      "\n",
      "\n",
      "------------------------------------------\n",
      "You have found a treasure!\n",
      "------------------------------------------\n",
      "Score: [5]  Sword:[0]  Potion[0]\n"
     ]
    },
    {
     "name": "stdin",
     "output_type": "stream",
     "text": [
      " d\n"
     ]
    },
    {
     "name": "stdout",
     "output_type": "stream",
     "text": [
      "\u001b[H\u001b[J[['' '' '' '' '' '' '']\n",
      " ['' '' '' '' '' '' '']\n",
      " ['' '' '' '' '' '' '']\n",
      " ['' '' '' '' '' '' '*']\n",
      " ['' '' '' '' '' '' '']\n",
      " ['' '' '' '' '' '' '']]\n",
      "\n",
      "\n",
      "------------------------------------------\n",
      "You have found a treasure!\n",
      "------------------------------------------\n",
      "Score: [7]  Sword:[0]  Potion[0]\n"
     ]
    },
    {
     "name": "stdin",
     "output_type": "stream",
     "text": [
      " d\n"
     ]
    },
    {
     "name": "stdout",
     "output_type": "stream",
     "text": [
      "\u001b[H\u001b[J[['' '' '' '' '' '' '']\n",
      " ['' '' '' '' '' '' '']\n",
      " ['' '' '' '' '' '' '']\n",
      " ['' '' '' '' '' '' '']\n",
      " ['' '' '' '' '' '' '*']\n",
      " ['' '' '' '' '' '' '']]\n",
      "\n",
      "\n",
      "------------------------------------------\n",
      "------------------------------------------\n",
      "Score: [8]  Sword:[0]  Potion[0]\n"
     ]
    },
    {
     "name": "stdin",
     "output_type": "stream",
     "text": [
      " d\n"
     ]
    },
    {
     "name": "stdout",
     "output_type": "stream",
     "text": [
      "\u001b[H\u001b[J[['' '' '' '' '' '' '']\n",
      " ['' '' '' '' '' '' '']\n",
      " ['' '' '' '' '' '' '']\n",
      " ['' '' '' '' '' '' '']\n",
      " ['' '' '' '' '' '' '']\n",
      " ['' '' '' '' '' '' '*']]\n",
      "\n",
      "\n",
      "------------------------------------------\n",
      "------------------------------------------\n",
      "Score: [9]  Sword:[0]  Potion[0]\n"
     ]
    },
    {
     "name": "stdin",
     "output_type": "stream",
     "text": [
      " l\n"
     ]
    },
    {
     "name": "stdout",
     "output_type": "stream",
     "text": [
      "\u001b[H\u001b[J[['' '' '' '' '' '' '']\n",
      " ['' '' '' '' '' '' '']\n",
      " ['' '' '' '' '' '' '']\n",
      " ['' '' '' '' '' '' '']\n",
      " ['' '' '' '' '' '' '']\n",
      " ['' '' '' '' '' '*' '']]\n",
      "\n",
      "\n",
      "------------------------------------------\n",
      "You have found a treasure!\n",
      "------------------------------------------\n",
      "Score: [11]  Sword:[0]  Potion[0]\n"
     ]
    },
    {
     "name": "stdin",
     "output_type": "stream",
     "text": [
      " u\n"
     ]
    },
    {
     "name": "stdout",
     "output_type": "stream",
     "text": [
      "\u001b[H\u001b[J[['' '' '' '' '' '' '']\n",
      " ['' '' '' '' '' '' '']\n",
      " ['' '' '' '' '' '' '']\n",
      " ['' '' '' '' '' '' '']\n",
      " ['' '' '' '' '' '*' '']\n",
      " ['' '' '' '' '' '' '']]\n",
      "\n",
      "\n",
      "------------------------------------------\n",
      "OH! You have encountered a monster!\n",
      "------------------------------------------\n",
      "Score: [12]  Sword:[-1]  Potion[0]\n",
      "You died! Game is over.\n"
     ]
    }
   ],
   "source": [
    "session.play()"
   ]
  },
  {
   "cell_type": "code",
   "execution_count": null,
   "id": "990d53a5",
   "metadata": {},
   "outputs": [],
   "source": [
    "r"
   ]
  },
  {
   "cell_type": "code",
   "execution_count": null,
   "id": "de9dee4c",
   "metadata": {},
   "outputs": [],
   "source": []
  }
 ],
 "metadata": {
  "kernelspec": {
   "display_name": "Python 3 (ipykernel)",
   "language": "python",
   "name": "python3"
  },
  "language_info": {
   "codemirror_mode": {
    "name": "ipython",
    "version": 3
   },
   "file_extension": ".py",
   "mimetype": "text/x-python",
   "name": "python",
   "nbconvert_exporter": "python",
   "pygments_lexer": "ipython3",
   "version": "3.9.10"
  }
 },
 "nbformat": 4,
 "nbformat_minor": 5
}
